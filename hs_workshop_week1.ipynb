{
 "cells": [
  {
   "cell_type": "markdown",
   "metadata": {},
   "source": [
    "## Data Science - high-school workshop"
   ]
  },
  {
   "cell_type": "markdown",
   "metadata": {},
   "source": [
    "### Introduction\n",
    "\n",
    "Hi! Welcome to the first Lambda School workshop for high-school students.\n",
    "\n",
    "(other stuff if needed)"
   ]
  },
  {
   "cell_type": "markdown",
   "metadata": {},
   "source": [
    "### Show me the data!\n",
    "\n",
    "So, since this workshop is called \"data science\" we're going to work with data. You're all probably very familiar with where a lot of data comes from:\n",
    "\n",
    "* data collected when you surf the internet, watch Netflix, or shop online\n",
    "* data collected by schools and health departments\n",
    "* data collected for a census or an election\n",
    "* data collected for science experiements and medical research, \n",
    "\n",
    "It would be hard to find a situation where data is *not* collected in some way. Even things in your home collect data about you! (\"Alexa, when did I last listen to Baby Shark?\")\n",
    "\n",
    "#### Why?\n",
    "\n",
    "We collect data so we can later analyze it and learn something. What we learn depends on both the data and what sorts of questions we ask. When we have some results, we can use that to collect even more, and hopefully better, data.\n",
    "\n",
    "#### \"Play\" data set\n",
    "\n",
    "One thing that is important to note is that data is messy. There are always wrong numbers, missing numbers, bad formatting, incorrect labels/names, and many other \"messy\" problems. But, we need to start somewhere so we'll use an already \"clean\" data set for practice. A clean data set has removed or fixed missing values, corrected formatting errors, and made sure labels are correct. In other words, it's a data set that's ready to analyze.\n",
    "\n",
    "#### M&Ms\n",
    "\n",
    "A [university class](http://stat.pugetsound.edu/hoard/datasetDetails.aspx?id=1) recorded some data on the M&Ms candy. They recorded type (plain, peanut, and peanut butter), color, diameter, and mass. In total they counted over 800 M&Ms so that we could have a fun data set to practice with. (I'm sure they probably ate a few of those M&Ms, too)\n",
    "\n",
    "\n",
    "So, let's get started! First, we'll go over a mini-tutorial for how to use this \"notebook\" (that you're reading right now) and introduce some of the basics of the Python programming language."
   ]
  },
  {
   "cell_type": "markdown",
   "metadata": {},
   "source": [
    "### The Notebook (not the movie)\n",
    "\n",
    "This file that you opened (with the .ipynb extension) is called a Jupyter Notebook. This particular one is running a IPython kernel which is the program that runs Python in the notebook. \n",
    "\n",
    "#### Text or markdown cell\n",
    "This \"block\" that we're reading right now is called a cell. This is a **text cell** and is written in something called \"markdown\". That's what all of the `###` you might see are for - they are headers and specify the size of the text. \n",
    "\n",
    "The cell below is a code cell. Since we're using Python, the code in the cell is Python code."
   ]
  },
  {
   "cell_type": "code",
   "execution_count": 21,
   "metadata": {},
   "outputs": [
    {
     "name": "stdout",
     "output_type": "stream",
     "text": [
      "Hello world!\n"
     ]
    }
   ],
   "source": [
    "# This is a code cell.\n",
    "# The hashtag -> # is used to indicate a comment and is ignored by Python\n",
    "# But this next line is code and is run by the program\n",
    "\n",
    "print('Hello world!')"
   ]
  },
  {
   "cell_type": "markdown",
   "metadata": {},
   "source": [
    "We ran the `print` command above to print everthing between the quote marks. Python also knows how to do math."
   ]
  },
  {
   "cell_type": "code",
   "execution_count": 22,
   "metadata": {},
   "outputs": [
    {
     "data": {
      "text/plain": [
       "11"
      ]
     },
     "execution_count": 22,
     "metadata": {},
     "output_type": "execute_result"
    }
   ],
   "source": [
    "# Python loves to do math!\n",
    "\n",
    "4 + 7"
   ]
  },
  {
   "cell_type": "code",
   "execution_count": 23,
   "metadata": {},
   "outputs": [
    {
     "name": "stdout",
     "output_type": "stream",
     "text": [
      "8\n"
     ]
    }
   ],
   "source": [
    "# More math\n",
    "\n",
    "# Set a variable\n",
    "\n",
    "myvariable = 3 + 5\n",
    "\n",
    "# Print the value of the variable\n",
    "\n",
    "print(myvariable)"
   ]
  },
  {
   "cell_type": "code",
   "execution_count": 1,
   "metadata": {},
   "outputs": [],
   "source": [
    "# DO NOT EDIT\n",
    "# Import libraries\n",
    "\n",
    "# The pandas library is used for data analysis\n",
    "import pandas as pd\n",
    "\n",
    "# Plotting\n",
    "\n"
   ]
  },
  {
   "cell_type": "code",
   "execution_count": 2,
   "metadata": {},
   "outputs": [],
   "source": [
    "# Import or \"load\" our data into the notebook\n",
    "\n",
    "# \"data\" is the variable name that we assign to the file \"mms.csv\"\n",
    "\n",
    "data = pd.read_csv('mms.csv')"
   ]
  },
  {
   "cell_type": "markdown",
   "metadata": {},
   "source": [
    "### Explore the data\n",
    "\n",
    "Now that we've loaded the data, we should explore it! \n",
    "\n",
    "What do we want to look at?\n",
    "\n",
    "* what are the columns?\n",
    "* how many rows?\n",
    "* data types: words, numbers, dates, true/false (Boolean)\n",
    "* number of different items in each column\n",
    "* whatever seems interesting!\n"
   ]
  },
  {
   "cell_type": "code",
   "execution_count": 4,
   "metadata": {},
   "outputs": [
    {
     "data": {
      "text/html": [
       "<div>\n",
       "<style scoped>\n",
       "    .dataframe tbody tr th:only-of-type {\n",
       "        vertical-align: middle;\n",
       "    }\n",
       "\n",
       "    .dataframe tbody tr th {\n",
       "        vertical-align: top;\n",
       "    }\n",
       "\n",
       "    .dataframe thead th {\n",
       "        text-align: right;\n",
       "    }\n",
       "</style>\n",
       "<table border=\"1\" class=\"dataframe\">\n",
       "  <thead>\n",
       "    <tr style=\"text-align: right;\">\n",
       "      <th></th>\n",
       "      <th>type</th>\n",
       "      <th>color</th>\n",
       "      <th>diameter</th>\n",
       "      <th>mass</th>\n",
       "    </tr>\n",
       "  </thead>\n",
       "  <tbody>\n",
       "    <tr>\n",
       "      <th>0</th>\n",
       "      <td>peanut butter</td>\n",
       "      <td>blue</td>\n",
       "      <td>16.20</td>\n",
       "      <td>2.18</td>\n",
       "    </tr>\n",
       "    <tr>\n",
       "      <th>1</th>\n",
       "      <td>peanut butter</td>\n",
       "      <td>brown</td>\n",
       "      <td>16.50</td>\n",
       "      <td>2.01</td>\n",
       "    </tr>\n",
       "    <tr>\n",
       "      <th>2</th>\n",
       "      <td>peanut butter</td>\n",
       "      <td>orange</td>\n",
       "      <td>15.48</td>\n",
       "      <td>1.78</td>\n",
       "    </tr>\n",
       "    <tr>\n",
       "      <th>3</th>\n",
       "      <td>peanut butter</td>\n",
       "      <td>brown</td>\n",
       "      <td>16.32</td>\n",
       "      <td>1.98</td>\n",
       "    </tr>\n",
       "    <tr>\n",
       "      <th>4</th>\n",
       "      <td>peanut butter</td>\n",
       "      <td>yellow</td>\n",
       "      <td>15.59</td>\n",
       "      <td>1.62</td>\n",
       "    </tr>\n",
       "    <tr>\n",
       "      <th>5</th>\n",
       "      <td>peanut butter</td>\n",
       "      <td>brown</td>\n",
       "      <td>17.43</td>\n",
       "      <td>2.59</td>\n",
       "    </tr>\n",
       "    <tr>\n",
       "      <th>6</th>\n",
       "      <td>peanut butter</td>\n",
       "      <td>yellow</td>\n",
       "      <td>15.45</td>\n",
       "      <td>1.90</td>\n",
       "    </tr>\n",
       "    <tr>\n",
       "      <th>7</th>\n",
       "      <td>peanut butter</td>\n",
       "      <td>green</td>\n",
       "      <td>17.30</td>\n",
       "      <td>2.55</td>\n",
       "    </tr>\n",
       "    <tr>\n",
       "      <th>8</th>\n",
       "      <td>peanut butter</td>\n",
       "      <td>yellow</td>\n",
       "      <td>16.37</td>\n",
       "      <td>2.07</td>\n",
       "    </tr>\n",
       "    <tr>\n",
       "      <th>9</th>\n",
       "      <td>peanut butter</td>\n",
       "      <td>blue</td>\n",
       "      <td>16.67</td>\n",
       "      <td>2.26</td>\n",
       "    </tr>\n",
       "  </tbody>\n",
       "</table>\n",
       "</div>"
      ],
      "text/plain": [
       "            type   color  diameter  mass\n",
       "0  peanut butter    blue     16.20  2.18\n",
       "1  peanut butter   brown     16.50  2.01\n",
       "2  peanut butter  orange     15.48  1.78\n",
       "3  peanut butter   brown     16.32  1.98\n",
       "4  peanut butter  yellow     15.59  1.62\n",
       "5  peanut butter   brown     17.43  2.59\n",
       "6  peanut butter  yellow     15.45  1.90\n",
       "7  peanut butter   green     17.30  2.55\n",
       "8  peanut butter  yellow     16.37  2.07\n",
       "9  peanut butter    blue     16.67  2.26"
      ]
     },
     "execution_count": 4,
     "metadata": {},
     "output_type": "execute_result"
    }
   ],
   "source": [
    "# View the data using the head() method (top of the file)\n",
    "\n",
    "data.head(10)\n"
   ]
  },
  {
   "cell_type": "code",
   "execution_count": 18,
   "metadata": {},
   "outputs": [
    {
     "data": {
      "text/html": [
       "<div>\n",
       "<style scoped>\n",
       "    .dataframe tbody tr th:only-of-type {\n",
       "        vertical-align: middle;\n",
       "    }\n",
       "\n",
       "    .dataframe tbody tr th {\n",
       "        vertical-align: top;\n",
       "    }\n",
       "\n",
       "    .dataframe thead th {\n",
       "        text-align: right;\n",
       "    }\n",
       "</style>\n",
       "<table border=\"1\" class=\"dataframe\">\n",
       "  <thead>\n",
       "    <tr style=\"text-align: right;\">\n",
       "      <th></th>\n",
       "      <th>type</th>\n",
       "      <th>color</th>\n",
       "      <th>diameter</th>\n",
       "      <th>mass</th>\n",
       "    </tr>\n",
       "  </thead>\n",
       "  <tbody>\n",
       "    <tr>\n",
       "      <th>806</th>\n",
       "      <td>peanut</td>\n",
       "      <td>brown</td>\n",
       "      <td>15.81</td>\n",
       "      <td>2.83</td>\n",
       "    </tr>\n",
       "    <tr>\n",
       "      <th>807</th>\n",
       "      <td>peanut</td>\n",
       "      <td>green</td>\n",
       "      <td>16.05</td>\n",
       "      <td>3.08</td>\n",
       "    </tr>\n",
       "    <tr>\n",
       "      <th>808</th>\n",
       "      <td>peanut</td>\n",
       "      <td>orange</td>\n",
       "      <td>15.05</td>\n",
       "      <td>2.81</td>\n",
       "    </tr>\n",
       "    <tr>\n",
       "      <th>809</th>\n",
       "      <td>peanut</td>\n",
       "      <td>blue</td>\n",
       "      <td>14.35</td>\n",
       "      <td>2.01</td>\n",
       "    </tr>\n",
       "    <tr>\n",
       "      <th>810</th>\n",
       "      <td>peanut</td>\n",
       "      <td>yellow</td>\n",
       "      <td>14.31</td>\n",
       "      <td>2.76</td>\n",
       "    </tr>\n",
       "    <tr>\n",
       "      <th>811</th>\n",
       "      <td>peanut</td>\n",
       "      <td>red</td>\n",
       "      <td>15.89</td>\n",
       "      <td>2.63</td>\n",
       "    </tr>\n",
       "    <tr>\n",
       "      <th>812</th>\n",
       "      <td>peanut</td>\n",
       "      <td>green</td>\n",
       "      <td>15.48</td>\n",
       "      <td>2.81</td>\n",
       "    </tr>\n",
       "    <tr>\n",
       "      <th>813</th>\n",
       "      <td>peanut</td>\n",
       "      <td>green</td>\n",
       "      <td>14.08</td>\n",
       "      <td>2.59</td>\n",
       "    </tr>\n",
       "    <tr>\n",
       "      <th>814</th>\n",
       "      <td>peanut</td>\n",
       "      <td>red</td>\n",
       "      <td>15.22</td>\n",
       "      <td>2.69</td>\n",
       "    </tr>\n",
       "    <tr>\n",
       "      <th>815</th>\n",
       "      <td>peanut</td>\n",
       "      <td>yellow</td>\n",
       "      <td>16.33</td>\n",
       "      <td>3.04</td>\n",
       "    </tr>\n",
       "  </tbody>\n",
       "</table>\n",
       "</div>"
      ],
      "text/plain": [
       "       type   color  diameter  mass\n",
       "806  peanut   brown     15.81  2.83\n",
       "807  peanut   green     16.05  3.08\n",
       "808  peanut  orange     15.05  2.81\n",
       "809  peanut    blue     14.35  2.01\n",
       "810  peanut  yellow     14.31  2.76\n",
       "811  peanut     red     15.89  2.63\n",
       "812  peanut   green     15.48  2.81\n",
       "813  peanut   green     14.08  2.59\n",
       "814  peanut     red     15.22  2.69\n",
       "815  peanut  yellow     16.33  3.04"
      ]
     },
     "execution_count": 18,
     "metadata": {},
     "output_type": "execute_result"
    }
   ],
   "source": [
    "# View the \"end\" of the data\n",
    "\n",
    "data.tail(10)"
   ]
  },
  {
   "cell_type": "code",
   "execution_count": 9,
   "metadata": {},
   "outputs": [
    {
     "name": "stdout",
     "output_type": "stream",
     "text": [
      "<class 'pandas.core.frame.DataFrame'>\n",
      "RangeIndex: 816 entries, 0 to 815\n",
      "Data columns (total 4 columns):\n",
      "type        816 non-null object\n",
      "color       816 non-null object\n",
      "diameter    816 non-null float64\n",
      "mass        816 non-null float64\n",
      "dtypes: float64(2), object(2)\n",
      "memory usage: 25.6+ KB\n"
     ]
    }
   ],
   "source": [
    "# Display the general info. about the data:\n",
    "# number of entries, number of columns, data type\n",
    "\n",
    "data.info()"
   ]
  },
  {
   "cell_type": "code",
   "execution_count": 19,
   "metadata": {},
   "outputs": [
    {
     "data": {
      "text/plain": [
       "plain            462\n",
       "peanut butter    201\n",
       "peanut           153\n",
       "Name: type, dtype: int64"
      ]
     },
     "execution_count": 19,
     "metadata": {},
     "output_type": "execute_result"
    }
   ],
   "source": [
    "# Look at one column, count how many of each \"type\"\n",
    "# (how many M&Ms of each kind)\n",
    "\n",
    "data['type'].value_counts()"
   ]
  },
  {
   "cell_type": "code",
   "execution_count": 20,
   "metadata": {},
   "outputs": [
    {
     "data": {
      "text/plain": [
       "green     153\n",
       "brown     151\n",
       "yellow    143\n",
       "blue      142\n",
       "orange    128\n",
       "red        99\n",
       "Name: color, dtype: int64"
      ]
     },
     "execution_count": 20,
     "metadata": {},
     "output_type": "execute_result"
    }
   ],
   "source": [
    "# Look at another column, count how many of each \"color\"\n",
    "# (how many colors are listed)\n",
    "\n",
    "data['color'].value_counts()"
   ]
  },
  {
   "cell_type": "code",
   "execution_count": 10,
   "metadata": {},
   "outputs": [
    {
     "data": {
      "text/html": [
       "<div>\n",
       "<style scoped>\n",
       "    .dataframe tbody tr th:only-of-type {\n",
       "        vertical-align: middle;\n",
       "    }\n",
       "\n",
       "    .dataframe tbody tr th {\n",
       "        vertical-align: top;\n",
       "    }\n",
       "\n",
       "    .dataframe thead th {\n",
       "        text-align: right;\n",
       "    }\n",
       "</style>\n",
       "<table border=\"1\" class=\"dataframe\">\n",
       "  <thead>\n",
       "    <tr style=\"text-align: right;\">\n",
       "      <th></th>\n",
       "      <th>diameter</th>\n",
       "      <th>mass</th>\n",
       "    </tr>\n",
       "  </thead>\n",
       "  <tbody>\n",
       "    <tr>\n",
       "      <th>count</th>\n",
       "      <td>816.000000</td>\n",
       "      <td>816.000000</td>\n",
       "    </tr>\n",
       "    <tr>\n",
       "      <th>mean</th>\n",
       "      <td>14.171912</td>\n",
       "      <td>1.419632</td>\n",
       "    </tr>\n",
       "    <tr>\n",
       "      <th>std</th>\n",
       "      <td>1.220001</td>\n",
       "      <td>0.714765</td>\n",
       "    </tr>\n",
       "    <tr>\n",
       "      <th>min</th>\n",
       "      <td>11.230000</td>\n",
       "      <td>0.720000</td>\n",
       "    </tr>\n",
       "    <tr>\n",
       "      <th>25%</th>\n",
       "      <td>13.220000</td>\n",
       "      <td>0.860000</td>\n",
       "    </tr>\n",
       "    <tr>\n",
       "      <th>50%</th>\n",
       "      <td>13.600000</td>\n",
       "      <td>0.920000</td>\n",
       "    </tr>\n",
       "    <tr>\n",
       "      <th>75%</th>\n",
       "      <td>15.300000</td>\n",
       "      <td>1.930000</td>\n",
       "    </tr>\n",
       "    <tr>\n",
       "      <th>max</th>\n",
       "      <td>17.880000</td>\n",
       "      <td>3.620000</td>\n",
       "    </tr>\n",
       "  </tbody>\n",
       "</table>\n",
       "</div>"
      ],
      "text/plain": [
       "         diameter        mass\n",
       "count  816.000000  816.000000\n",
       "mean    14.171912    1.419632\n",
       "std      1.220001    0.714765\n",
       "min     11.230000    0.720000\n",
       "25%     13.220000    0.860000\n",
       "50%     13.600000    0.920000\n",
       "75%     15.300000    1.930000\n",
       "max     17.880000    3.620000"
      ]
     },
     "execution_count": 10,
     "metadata": {},
     "output_type": "execute_result"
    }
   ],
   "source": [
    "data.describe()"
   ]
  }
 ],
 "metadata": {
  "kernelspec": {
   "display_name": "Python 3",
   "language": "python",
   "name": "python3"
  },
  "language_info": {
   "codemirror_mode": {
    "name": "ipython",
    "version": 3
   },
   "file_extension": ".py",
   "mimetype": "text/x-python",
   "name": "python",
   "nbconvert_exporter": "python",
   "pygments_lexer": "ipython3",
   "version": "3.7.3"
  }
 },
 "nbformat": 4,
 "nbformat_minor": 2
}
