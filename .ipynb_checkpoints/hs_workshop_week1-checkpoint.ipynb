{
 "cells": [
  {
   "cell_type": "markdown",
   "metadata": {},
   "source": [
    "# Data Science - High-School Workshop - 14th April 2020"
   ]
  },
  {
   "cell_type": "markdown",
   "metadata": {},
   "source": [
    "## Introduction\n",
    "\n",
    "Hi! Welcome to the first Lambda School workshop for high-school students. We're very excited to offer these additional learning experiences and hope you enjoy learning something new.\n",
    "\n",
    "We'll do some introductions and a quick ice breaker activity and then dive into the lesson."
   ]
  },
  {
   "cell_type": "markdown",
   "metadata": {},
   "source": [
    "## Data, data, data\n",
    "\n",
    "So, since this workshop is called \"data science\" we're going to work with data. You're all probably very familiar with where a lot of data comes from:\n",
    "\n",
    "* data collected when you surf the internet, watch Netflix, or shop online\n",
    "* data collected by schools and health departments\n",
    "* data collected for a census or an election\n",
    "* data collected for science experiements and medical research, \n",
    "\n",
    "It would be hard to find a situation where data is *not* collected in some way. Even things in your home collect data about you! (\"Alexa, when did I last listen to Baby Shark?\")\n",
    "\n",
    "### Why?\n",
    "\n",
    "We collect data so we can later analyze it and learn something. What we learn depends on both the data and what sorts of questions we ask. When we have some initial results, we can use that to collect even more, and hopefully better, data.\n",
    "\n",
    "### \"Play\" data set\n",
    "\n",
    "One thing that is important to note is that data is messy. There are always wrong numbers, missing numbers, bad formatting, incorrect labels/names, and many other \"messy\" problems. But, we need to start somewhere so we'll use an already \"clean\" data set for practice. A clean data set has already removed or fixed missing values, corrected formatting errors, and made sure labels are correct. In general, it's a data set that's ready to analyze.\n",
    "\n",
    "### M&Ms\n",
    "\n",
    "<img src=\"PlainMMs_small.jpg\" alt=\"M&Ms\" style=\"width: 200px;\"/>\n",
    "\n",
    "Students in a [university class](http://stat.pugetsound.edu/hoard/datasetDetails.aspx?id=1) recorded some data on the M&Ms candy. They recorded type (plain, peanut, and peanut butter), color, diameter, and mass. In total they counted over 800 M&Ms so that we could have a fun data set to practice with. (I'm sure they probably ate a few of those M&Ms, too.)\n",
    "\n",
    "\n",
    "So, let's get started! First, we'll go over a mini-tutorial for how to use this \"notebook\" (the thing you're reading right now) and introduce some of the basics of the Python programming language.\n",
    "\n",
    "---\n"
   ]
  },
  {
   "cell_type": "markdown",
   "metadata": {},
   "source": [
    "## The Notebook (not the movie)\n",
    "\n",
    "This file that you opened (with the .ipynb extension) is called a Jupyter Notebook. This particular one is running a IPython kernel which is the program that runs Python in the notebook. Notebooks are intended to be used with a mix of text cells (like stuff you would write in an actual paper notebook) and code cells. \n",
    "\n",
    "### Text or markdown cell\n",
    "This \"block\" that we're reading right now is called a cell. This is a **text cell** and is written in something called \"markdown\". That's what all of the `###` you might see are for - they are headers and specify the size of the text. The rest of the text is just regular, sometimes with `**` to denote bold or just `*` for \n",
    "\n",
    "### Code (Python) cell\n",
    "The cell below is a code cell. Since we're using Python, the code in the cell is Python code."
   ]
  },
  {
   "cell_type": "code",
   "execution_count": 23,
   "metadata": {},
   "outputs": [
    {
     "name": "stdout",
     "output_type": "stream",
     "text": [
      "Hello world!\n"
     ]
    }
   ],
   "source": [
    "# This is a code cell.\n",
    "# The hashtag -> # is used to indicate a comment and is ignored by Python\n",
    "# But this next line is code and is run by the program\n",
    "\n",
    "print('Hello world!')"
   ]
  },
  {
   "cell_type": "markdown",
   "metadata": {},
   "source": [
    "We ran the `print` command above to print everthing between the quote marks. Python also knows how to do math."
   ]
  },
  {
   "cell_type": "code",
   "execution_count": 24,
   "metadata": {},
   "outputs": [
    {
     "data": {
      "text/plain": [
       "11"
      ]
     },
     "execution_count": 24,
     "metadata": {},
     "output_type": "execute_result"
    }
   ],
   "source": [
    "# Python loves to do math for you!\n",
    "\n",
    "4 + 7"
   ]
  },
  {
   "cell_type": "code",
   "execution_count": 25,
   "metadata": {},
   "outputs": [],
   "source": [
    "### YOUR turn! ###\n",
    "# Try out some math expressions in this cell\n",
    "\n",
    "\n"
   ]
  },
  {
   "cell_type": "code",
   "execution_count": 26,
   "metadata": {},
   "outputs": [
    {
     "name": "stdout",
     "output_type": "stream",
     "text": [
      "5\n"
     ]
    }
   ],
   "source": [
    "# Set a variable, print (output) to the screen\n",
    "\n",
    "myvariable = 10 - 5\n",
    "\n",
    "# Print the value of the variable\n",
    "# (we use the print function to see the output)\n",
    "\n",
    "print(myvariable)"
   ]
  },
  {
   "cell_type": "code",
   "execution_count": 27,
   "metadata": {},
   "outputs": [],
   "source": [
    "### YOUR turn! ###\n",
    "# More Python practice here\n",
    "\n",
    "\n",
    "\n",
    "\n"
   ]
  },
  {
   "cell_type": "markdown",
   "metadata": {},
   "source": [
    "## Data Exploration"
   ]
  },
  {
   "cell_type": "code",
   "execution_count": 28,
   "metadata": {},
   "outputs": [],
   "source": [
    "# DO NOT EDIT\n",
    "# Import libraries\n",
    "\n",
    "# The pandas library is used for data analysis\n",
    "import pandas as pd\n",
    "\n",
    "# Plotting\n",
    "import seaborn as sns\n",
    "\n",
    "sns.set(rc={'figure.figsize':(10,6)})\n",
    "sns.set_palette(\"bright\")"
   ]
  },
  {
   "cell_type": "code",
   "execution_count": 29,
   "metadata": {},
   "outputs": [],
   "source": [
    "# Import or \"load\" our data into the notebook\n",
    "\n",
    "\n",
    "\n",
    "url = 'https://raw.githubusercontent.com/nwhoffman/ds_highschool_workshop/master/mms.csv'\n",
    "\n",
    "# \"data\" is the variable name that we assign to the file \"mms.csv\"\n",
    "data = pd.read_csv(url)"
   ]
  },
  {
   "cell_type": "markdown",
   "metadata": {},
   "source": [
    "### Explore the data\n",
    "\n",
    "Now that we've loaded the data, we should explore it! As a data scientist, this is up to you. Think about what you want to learn from your data and how it might help answer any questions you have.\n",
    "\n",
    "**What do we want to look at?**\n",
    "\n",
    "* what are the columns?\n",
    "* how many rows?\n",
    "* data types: words, numbers, dates, true/false (Boolean)\n",
    "* number of different items in each column\n",
    "* whatever seems interesting!\n"
   ]
  },
  {
   "cell_type": "code",
   "execution_count": 30,
   "metadata": {},
   "outputs": [
    {
     "data": {
      "text/html": [
       "<div>\n",
       "<style scoped>\n",
       "    .dataframe tbody tr th:only-of-type {\n",
       "        vertical-align: middle;\n",
       "    }\n",
       "\n",
       "    .dataframe tbody tr th {\n",
       "        vertical-align: top;\n",
       "    }\n",
       "\n",
       "    .dataframe thead th {\n",
       "        text-align: right;\n",
       "    }\n",
       "</style>\n",
       "<table border=\"1\" class=\"dataframe\">\n",
       "  <thead>\n",
       "    <tr style=\"text-align: right;\">\n",
       "      <th></th>\n",
       "      <th>type</th>\n",
       "      <th>color</th>\n",
       "      <th>diameter</th>\n",
       "      <th>mass</th>\n",
       "    </tr>\n",
       "  </thead>\n",
       "  <tbody>\n",
       "    <tr>\n",
       "      <td>0</td>\n",
       "      <td>peanut butter</td>\n",
       "      <td>blue</td>\n",
       "      <td>16.20</td>\n",
       "      <td>2.18</td>\n",
       "    </tr>\n",
       "    <tr>\n",
       "      <td>1</td>\n",
       "      <td>peanut butter</td>\n",
       "      <td>brown</td>\n",
       "      <td>16.50</td>\n",
       "      <td>2.01</td>\n",
       "    </tr>\n",
       "    <tr>\n",
       "      <td>2</td>\n",
       "      <td>peanut butter</td>\n",
       "      <td>orange</td>\n",
       "      <td>15.48</td>\n",
       "      <td>1.78</td>\n",
       "    </tr>\n",
       "    <tr>\n",
       "      <td>3</td>\n",
       "      <td>peanut butter</td>\n",
       "      <td>brown</td>\n",
       "      <td>16.32</td>\n",
       "      <td>1.98</td>\n",
       "    </tr>\n",
       "    <tr>\n",
       "      <td>4</td>\n",
       "      <td>peanut butter</td>\n",
       "      <td>yellow</td>\n",
       "      <td>15.59</td>\n",
       "      <td>1.62</td>\n",
       "    </tr>\n",
       "    <tr>\n",
       "      <td>5</td>\n",
       "      <td>peanut butter</td>\n",
       "      <td>brown</td>\n",
       "      <td>17.43</td>\n",
       "      <td>2.59</td>\n",
       "    </tr>\n",
       "    <tr>\n",
       "      <td>6</td>\n",
       "      <td>peanut butter</td>\n",
       "      <td>yellow</td>\n",
       "      <td>15.45</td>\n",
       "      <td>1.90</td>\n",
       "    </tr>\n",
       "    <tr>\n",
       "      <td>7</td>\n",
       "      <td>peanut butter</td>\n",
       "      <td>green</td>\n",
       "      <td>17.30</td>\n",
       "      <td>2.55</td>\n",
       "    </tr>\n",
       "    <tr>\n",
       "      <td>8</td>\n",
       "      <td>peanut butter</td>\n",
       "      <td>yellow</td>\n",
       "      <td>16.37</td>\n",
       "      <td>2.07</td>\n",
       "    </tr>\n",
       "    <tr>\n",
       "      <td>9</td>\n",
       "      <td>peanut butter</td>\n",
       "      <td>blue</td>\n",
       "      <td>16.67</td>\n",
       "      <td>2.26</td>\n",
       "    </tr>\n",
       "  </tbody>\n",
       "</table>\n",
       "</div>"
      ],
      "text/plain": [
       "            type   color  diameter  mass\n",
       "0  peanut butter    blue     16.20  2.18\n",
       "1  peanut butter   brown     16.50  2.01\n",
       "2  peanut butter  orange     15.48  1.78\n",
       "3  peanut butter   brown     16.32  1.98\n",
       "4  peanut butter  yellow     15.59  1.62\n",
       "5  peanut butter   brown     17.43  2.59\n",
       "6  peanut butter  yellow     15.45  1.90\n",
       "7  peanut butter   green     17.30  2.55\n",
       "8  peanut butter  yellow     16.37  2.07\n",
       "9  peanut butter    blue     16.67  2.26"
      ]
     },
     "execution_count": 30,
     "metadata": {},
     "output_type": "execute_result"
    }
   ],
   "source": [
    "# View the data using the head() method (top of the file)\n",
    "\n",
    "data.head(10)\n"
   ]
  },
  {
   "cell_type": "code",
   "execution_count": 31,
   "metadata": {},
   "outputs": [
    {
     "data": {
      "text/html": [
       "<div>\n",
       "<style scoped>\n",
       "    .dataframe tbody tr th:only-of-type {\n",
       "        vertical-align: middle;\n",
       "    }\n",
       "\n",
       "    .dataframe tbody tr th {\n",
       "        vertical-align: top;\n",
       "    }\n",
       "\n",
       "    .dataframe thead th {\n",
       "        text-align: right;\n",
       "    }\n",
       "</style>\n",
       "<table border=\"1\" class=\"dataframe\">\n",
       "  <thead>\n",
       "    <tr style=\"text-align: right;\">\n",
       "      <th></th>\n",
       "      <th>type</th>\n",
       "      <th>color</th>\n",
       "      <th>diameter</th>\n",
       "      <th>mass</th>\n",
       "    </tr>\n",
       "  </thead>\n",
       "  <tbody>\n",
       "    <tr>\n",
       "      <td>806</td>\n",
       "      <td>peanut</td>\n",
       "      <td>brown</td>\n",
       "      <td>15.81</td>\n",
       "      <td>2.83</td>\n",
       "    </tr>\n",
       "    <tr>\n",
       "      <td>807</td>\n",
       "      <td>peanut</td>\n",
       "      <td>green</td>\n",
       "      <td>16.05</td>\n",
       "      <td>3.08</td>\n",
       "    </tr>\n",
       "    <tr>\n",
       "      <td>808</td>\n",
       "      <td>peanut</td>\n",
       "      <td>orange</td>\n",
       "      <td>15.05</td>\n",
       "      <td>2.81</td>\n",
       "    </tr>\n",
       "    <tr>\n",
       "      <td>809</td>\n",
       "      <td>peanut</td>\n",
       "      <td>blue</td>\n",
       "      <td>14.35</td>\n",
       "      <td>2.01</td>\n",
       "    </tr>\n",
       "    <tr>\n",
       "      <td>810</td>\n",
       "      <td>peanut</td>\n",
       "      <td>yellow</td>\n",
       "      <td>14.31</td>\n",
       "      <td>2.76</td>\n",
       "    </tr>\n",
       "    <tr>\n",
       "      <td>811</td>\n",
       "      <td>peanut</td>\n",
       "      <td>red</td>\n",
       "      <td>15.89</td>\n",
       "      <td>2.63</td>\n",
       "    </tr>\n",
       "    <tr>\n",
       "      <td>812</td>\n",
       "      <td>peanut</td>\n",
       "      <td>green</td>\n",
       "      <td>15.48</td>\n",
       "      <td>2.81</td>\n",
       "    </tr>\n",
       "    <tr>\n",
       "      <td>813</td>\n",
       "      <td>peanut</td>\n",
       "      <td>green</td>\n",
       "      <td>14.08</td>\n",
       "      <td>2.59</td>\n",
       "    </tr>\n",
       "    <tr>\n",
       "      <td>814</td>\n",
       "      <td>peanut</td>\n",
       "      <td>red</td>\n",
       "      <td>15.22</td>\n",
       "      <td>2.69</td>\n",
       "    </tr>\n",
       "    <tr>\n",
       "      <td>815</td>\n",
       "      <td>peanut</td>\n",
       "      <td>yellow</td>\n",
       "      <td>16.33</td>\n",
       "      <td>3.04</td>\n",
       "    </tr>\n",
       "  </tbody>\n",
       "</table>\n",
       "</div>"
      ],
      "text/plain": [
       "       type   color  diameter  mass\n",
       "806  peanut   brown     15.81  2.83\n",
       "807  peanut   green     16.05  3.08\n",
       "808  peanut  orange     15.05  2.81\n",
       "809  peanut    blue     14.35  2.01\n",
       "810  peanut  yellow     14.31  2.76\n",
       "811  peanut     red     15.89  2.63\n",
       "812  peanut   green     15.48  2.81\n",
       "813  peanut   green     14.08  2.59\n",
       "814  peanut     red     15.22  2.69\n",
       "815  peanut  yellow     16.33  3.04"
      ]
     },
     "execution_count": 31,
     "metadata": {},
     "output_type": "execute_result"
    }
   ],
   "source": [
    "# View the \"end\" of the data\n",
    "\n",
    "data.tail(10)"
   ]
  },
  {
   "cell_type": "code",
   "execution_count": 32,
   "metadata": {},
   "outputs": [
    {
     "name": "stdout",
     "output_type": "stream",
     "text": [
      "<class 'pandas.core.frame.DataFrame'>\n",
      "RangeIndex: 816 entries, 0 to 815\n",
      "Data columns (total 4 columns):\n",
      "type        816 non-null object\n",
      "color       816 non-null object\n",
      "diameter    816 non-null float64\n",
      "mass        816 non-null float64\n",
      "dtypes: float64(2), object(2)\n",
      "memory usage: 25.6+ KB\n"
     ]
    }
   ],
   "source": [
    "# Display the general info. about the data:\n",
    "# number of entries, number of columns, data type\n",
    "\n",
    "data.info()"
   ]
  },
  {
   "cell_type": "code",
   "execution_count": 33,
   "metadata": {},
   "outputs": [
    {
     "data": {
      "text/plain": [
       "plain            462\n",
       "peanut butter    201\n",
       "peanut           153\n",
       "Name: type, dtype: int64"
      ]
     },
     "execution_count": 33,
     "metadata": {},
     "output_type": "execute_result"
    }
   ],
   "source": [
    "# Look at one column, count how many of each \"type\"\n",
    "# (how many M&Ms of each kind)\n",
    "\n",
    "data['type'].value_counts()"
   ]
  },
  {
   "cell_type": "code",
   "execution_count": 34,
   "metadata": {},
   "outputs": [
    {
     "data": {
      "text/plain": [
       "green     153\n",
       "brown     151\n",
       "yellow    143\n",
       "blue      142\n",
       "orange    128\n",
       "red        99\n",
       "Name: color, dtype: int64"
      ]
     },
     "execution_count": 34,
     "metadata": {},
     "output_type": "execute_result"
    }
   ],
   "source": [
    "# Look at another column, count how many of each \"color\"\n",
    "# (how many colors are listed)\n",
    "\n",
    "data['color'].value_counts()"
   ]
  },
  {
   "cell_type": "markdown",
   "metadata": {},
   "source": [
    "### Summarize\n",
    "\n",
    "So, we've learned some stuff about our data set. We now know:\n",
    "\n",
    "* there are 816 observations (or 816 M&Ms were measured)\n",
    "* we have 3 flavors: plain, peanut butter, peanut\n",
    "* we have five colors\n",
    "* some of us are craving M&Ms right now\n",
    "\n",
    "What's next? Have we come up with any questions we want to ask about our M&Ms? Let's take a few minutes and discuss."
   ]
  },
  {
   "cell_type": "markdown",
   "metadata": {},
   "source": [
    "### Really important M&M questions:\n",
    "\n",
    "(use this space to write out some of your own questions)\n",
    "\n",
    "1)\n",
    "\n",
    "2)\n",
    "\n",
    "3)\n",
    "\n"
   ]
  },
  {
   "cell_type": "markdown",
   "metadata": {},
   "source": [
    "### Statistics!\n",
    "\n",
    "In our discussion and in the questions/thoughts you wrote down, there was probably some mention of things like \"average M&M size\" or \"biggest M&M\" (or even more scary: \"smallest M&M\"). We might even want to know how the size varies with color.\n",
    "\n",
    "The properties of all the masses or diameters of the M&Ms \n",
    "\n",
    "First, we'll just look at the **mean** and **median** of the diameter and mass, for all of the M&Ms.\n",
    "\n",
    "**mean:** the sum of all the values divided by the total number of values (example: the total mass/total number of M&Ms)\n",
    "\n",
    "**median:** the value where half (50%) of the distribution falls below and half (50%) is above (example: line up all the M&Ms in order of their mass; the one in the middle is the median)\n"
   ]
  },
  {
   "cell_type": "markdown",
   "metadata": {},
   "source": [
    "### Plotting\n",
    "\n",
    "Plotting in Python is pretty easy. In this tutorial we're going to focus on the `seaborn` plotting library. You can see above we imported the library with `import seaborn as sns`. We needed to do this in order to use the functions in that library. \n",
    "\n",
    "The first type of plot that we'll look at is a **histogram**. This one is pretty straightforward: We count up how many M&Ms have a mass in a certain range and then plot the nmber for that range.  For this data set, the x-axis of the plot contains the mass bins and the y-axis is the number of M&Ms in each bin."
   ]
  },
  {
   "cell_type": "code",
   "execution_count": 35,
   "metadata": {},
   "outputs": [
    {
     "name": "stdout",
     "output_type": "stream",
     "text": [
      "mean mass (all M&Ms) =  1.4196323529411776\n",
      "median mass (all M&Ms) =  0.92\n"
     ]
    }
   ],
   "source": [
    "# Look at the statistics for mass\n",
    "\n",
    "print('mean mass (all M&Ms) = ', data['mass'].mean())\n",
    "print('median mass (all M&Ms) = ', data['mass'].median())"
   ]
  },
  {
   "cell_type": "code",
   "execution_count": 36,
   "metadata": {},
   "outputs": [
    {
     "data": {
      "image/png": "[encoded data removed]",
      "text/plain": [
       "<Figure size 720x432 with 1 Axes>"
      ]
     },
     "metadata": {},
     "output_type": "display_data"
    }
   ],
   "source": [
    "# Plot the histogram of masses\n",
    "\n",
    "sns.distplot(data.mass, kde = False, bins = 150);"
   ]
  },
  {
   "cell_type": "code",
   "execution_count": 37,
   "metadata": {},
   "outputs": [
    {
     "name": "stdout",
     "output_type": "stream",
     "text": [
      "mean diameter (all M&Ms) =  14.17191176470588\n",
      "median diameter (all M&Ms) =  13.6\n"
     ]
    }
   ],
   "source": [
    "# Look at the statistics for diameter\n",
    "\n",
    "print('mean diameter (all M&Ms) = ', data['diameter'].mean())\n",
    "print('median diameter (all M&Ms) = ', data['diameter'].median())"
   ]
  },
  {
   "cell_type": "code",
   "execution_count": 38,
   "metadata": {},
   "outputs": [
    {
     "data": {
      "image/png": "[encoded data removed]",
      "text/plain": [
       "<Figure size 720x432 with 1 Axes>"
      ]
     },
     "metadata": {},
     "output_type": "display_data"
    }
   ],
   "source": [
    "# Plot the histogram of weights\n",
    "\n",
    "sns.distplot(data.diameter, kde = False, bins = 150);"
   ]
  },
  {
   "cell_type": "markdown",
   "metadata": {},
   "source": [
    "Since all M&Ms are not create equal, it would probably be good to look at some of the statistics for the different **types** of M&Ms. We can do this graphically with plots and/or print out some of the numbers.\n",
    "\n",
    "In order to look at the **\"groups\" of candy**, we need to use the pandas `'groupby()'` method. We'll start by grouping according to type. When we do this, we need to **do something to the groups**. In this example, let's find the average (mean) diameter and mass for each type."
   ]
  },
  {
   "cell_type": "code",
   "execution_count": 39,
   "metadata": {},
   "outputs": [
    {
     "data": {
      "text/html": [
       "<div>\n",
       "<style scoped>\n",
       "    .dataframe tbody tr th:only-of-type {\n",
       "        vertical-align: middle;\n",
       "    }\n",
       "\n",
       "    .dataframe tbody tr th {\n",
       "        vertical-align: top;\n",
       "    }\n",
       "\n",
       "    .dataframe thead th {\n",
       "        text-align: right;\n",
       "    }\n",
       "</style>\n",
       "<table border=\"1\" class=\"dataframe\">\n",
       "  <thead>\n",
       "    <tr style=\"text-align: right;\">\n",
       "      <th></th>\n",
       "      <th>diameter</th>\n",
       "      <th>mass</th>\n",
       "    </tr>\n",
       "    <tr>\n",
       "      <th>type</th>\n",
       "      <th></th>\n",
       "      <th></th>\n",
       "    </tr>\n",
       "  </thead>\n",
       "  <tbody>\n",
       "    <tr>\n",
       "      <td>peanut</td>\n",
       "      <td>14.772353</td>\n",
       "      <td>2.597712</td>\n",
       "    </tr>\n",
       "    <tr>\n",
       "      <td>peanut butter</td>\n",
       "      <td>15.766766</td>\n",
       "      <td>1.798109</td>\n",
       "    </tr>\n",
       "    <tr>\n",
       "      <td>plain</td>\n",
       "      <td>13.279199</td>\n",
       "      <td>0.864827</td>\n",
       "    </tr>\n",
       "  </tbody>\n",
       "</table>\n",
       "</div>"
      ],
      "text/plain": [
       "                diameter      mass\n",
       "type                              \n",
       "peanut         14.772353  2.597712\n",
       "peanut butter  15.766766  1.798109\n",
       "plain          13.279199  0.864827"
      ]
     },
     "execution_count": 39,
     "metadata": {},
     "output_type": "execute_result"
    }
   ],
   "source": [
    "# Group by M&M type and find the mean\n",
    "\n",
    "data.groupby(by='type').mean()"
   ]
  },
  {
   "cell_type": "code",
   "execution_count": 40,
   "metadata": {},
   "outputs": [
    {
     "data": {
      "text/html": [
       "<div>\n",
       "<style scoped>\n",
       "    .dataframe tbody tr th:only-of-type {\n",
       "        vertical-align: middle;\n",
       "    }\n",
       "\n",
       "    .dataframe tbody tr th {\n",
       "        vertical-align: top;\n",
       "    }\n",
       "\n",
       "    .dataframe thead th {\n",
       "        text-align: right;\n",
       "    }\n",
       "</style>\n",
       "<table border=\"1\" class=\"dataframe\">\n",
       "  <thead>\n",
       "    <tr style=\"text-align: right;\">\n",
       "      <th></th>\n",
       "      <th>diameter</th>\n",
       "      <th>mass</th>\n",
       "    </tr>\n",
       "    <tr>\n",
       "      <th>color</th>\n",
       "      <th></th>\n",
       "      <th></th>\n",
       "    </tr>\n",
       "  </thead>\n",
       "  <tbody>\n",
       "    <tr>\n",
       "      <td>blue</td>\n",
       "      <td>14.037394</td>\n",
       "      <td>1.382113</td>\n",
       "    </tr>\n",
       "    <tr>\n",
       "      <td>brown</td>\n",
       "      <td>14.178609</td>\n",
       "      <td>1.389007</td>\n",
       "    </tr>\n",
       "    <tr>\n",
       "      <td>green</td>\n",
       "      <td>14.191961</td>\n",
       "      <td>1.422876</td>\n",
       "    </tr>\n",
       "    <tr>\n",
       "      <td>orange</td>\n",
       "      <td>14.024141</td>\n",
       "      <td>1.413438</td>\n",
       "    </tr>\n",
       "    <tr>\n",
       "      <td>red</td>\n",
       "      <td>14.156061</td>\n",
       "      <td>1.400404</td>\n",
       "    </tr>\n",
       "    <tr>\n",
       "      <td>yellow</td>\n",
       "      <td>14.420210</td>\n",
       "      <td>1.504615</td>\n",
       "    </tr>\n",
       "  </tbody>\n",
       "</table>\n",
       "</div>"
      ],
      "text/plain": [
       "         diameter      mass\n",
       "color                      \n",
       "blue    14.037394  1.382113\n",
       "brown   14.178609  1.389007\n",
       "green   14.191961  1.422876\n",
       "orange  14.024141  1.413438\n",
       "red     14.156061  1.400404\n",
       "yellow  14.420210  1.504615"
      ]
     },
     "execution_count": 40,
     "metadata": {},
     "output_type": "execute_result"
    }
   ],
   "source": [
    "# YOU try!\n",
    "\n",
    "# Group by color and find the mean\n",
    "\n",
    "data.groupby(by='color').mean()"
   ]
  },
  {
   "cell_type": "code",
   "execution_count": 41,
   "metadata": {},
   "outputs": [
    {
     "data": {
      "text/html": [
       "<div>\n",
       "<style scoped>\n",
       "    .dataframe tbody tr th:only-of-type {\n",
       "        vertical-align: middle;\n",
       "    }\n",
       "\n",
       "    .dataframe tbody tr th {\n",
       "        vertical-align: top;\n",
       "    }\n",
       "\n",
       "    .dataframe thead th {\n",
       "        text-align: right;\n",
       "    }\n",
       "</style>\n",
       "<table border=\"1\" class=\"dataframe\">\n",
       "  <thead>\n",
       "    <tr style=\"text-align: right;\">\n",
       "      <th></th>\n",
       "      <th></th>\n",
       "      <th>diameter</th>\n",
       "      <th>mass</th>\n",
       "    </tr>\n",
       "    <tr>\n",
       "      <th>type</th>\n",
       "      <th>color</th>\n",
       "      <th></th>\n",
       "      <th></th>\n",
       "    </tr>\n",
       "  </thead>\n",
       "  <tbody>\n",
       "    <tr>\n",
       "      <td rowspan=\"6\" valign=\"top\">peanut</td>\n",
       "      <td>blue</td>\n",
       "      <td>14.777037</td>\n",
       "      <td>2.575926</td>\n",
       "    </tr>\n",
       "    <tr>\n",
       "      <td>brown</td>\n",
       "      <td>14.743913</td>\n",
       "      <td>2.571304</td>\n",
       "    </tr>\n",
       "    <tr>\n",
       "      <td>green</td>\n",
       "      <td>15.048889</td>\n",
       "      <td>2.680741</td>\n",
       "    </tr>\n",
       "    <tr>\n",
       "      <td>orange</td>\n",
       "      <td>14.591724</td>\n",
       "      <td>2.570345</td>\n",
       "    </tr>\n",
       "    <tr>\n",
       "      <td>red</td>\n",
       "      <td>15.015000</td>\n",
       "      <td>2.626500</td>\n",
       "    </tr>\n",
       "    <tr>\n",
       "      <td>yellow</td>\n",
       "      <td>14.529630</td>\n",
       "      <td>2.567037</td>\n",
       "    </tr>\n",
       "    <tr>\n",
       "      <td rowspan=\"6\" valign=\"top\">peanut butter</td>\n",
       "      <td>blue</td>\n",
       "      <td>15.869286</td>\n",
       "      <td>1.852500</td>\n",
       "    </tr>\n",
       "    <tr>\n",
       "      <td>brown</td>\n",
       "      <td>15.675714</td>\n",
       "      <td>1.803095</td>\n",
       "    </tr>\n",
       "    <tr>\n",
       "      <td>green</td>\n",
       "      <td>16.038235</td>\n",
       "      <td>1.920294</td>\n",
       "    </tr>\n",
       "    <tr>\n",
       "      <td>orange</td>\n",
       "      <td>15.657083</td>\n",
       "      <td>1.730000</td>\n",
       "    </tr>\n",
       "    <tr>\n",
       "      <td>red</td>\n",
       "      <td>15.765714</td>\n",
       "      <td>1.740476</td>\n",
       "    </tr>\n",
       "    <tr>\n",
       "      <td>yellow</td>\n",
       "      <td>15.658654</td>\n",
       "      <td>1.739615</td>\n",
       "    </tr>\n",
       "    <tr>\n",
       "      <td rowspan=\"6\" valign=\"top\">plain</td>\n",
       "      <td>blue</td>\n",
       "      <td>13.218276</td>\n",
       "      <td>0.860230</td>\n",
       "    </tr>\n",
       "    <tr>\n",
       "      <td>brown</td>\n",
       "      <td>13.296279</td>\n",
       "      <td>0.870581</td>\n",
       "    </tr>\n",
       "    <tr>\n",
       "      <td>green</td>\n",
       "      <td>13.258152</td>\n",
       "      <td>0.869891</td>\n",
       "    </tr>\n",
       "    <tr>\n",
       "      <td>orange</td>\n",
       "      <td>13.282133</td>\n",
       "      <td>0.864800</td>\n",
       "    </tr>\n",
       "    <tr>\n",
       "      <td>red</td>\n",
       "      <td>13.277069</td>\n",
       "      <td>0.854483</td>\n",
       "    </tr>\n",
       "    <tr>\n",
       "      <td>yellow</td>\n",
       "      <td>13.367812</td>\n",
       "      <td>0.865469</td>\n",
       "    </tr>\n",
       "  </tbody>\n",
       "</table>\n",
       "</div>"
      ],
      "text/plain": [
       "                       diameter      mass\n",
       "type          color                      \n",
       "peanut        blue    14.777037  2.575926\n",
       "              brown   14.743913  2.571304\n",
       "              green   15.048889  2.680741\n",
       "              orange  14.591724  2.570345\n",
       "              red     15.015000  2.626500\n",
       "              yellow  14.529630  2.567037\n",
       "peanut butter blue    15.869286  1.852500\n",
       "              brown   15.675714  1.803095\n",
       "              green   16.038235  1.920294\n",
       "              orange  15.657083  1.730000\n",
       "              red     15.765714  1.740476\n",
       "              yellow  15.658654  1.739615\n",
       "plain         blue    13.218276  0.860230\n",
       "              brown   13.296279  0.870581\n",
       "              green   13.258152  0.869891\n",
       "              orange  13.282133  0.864800\n",
       "              red     13.277069  0.854483\n",
       "              yellow  13.367812  0.865469"
      ]
     },
     "execution_count": 41,
     "metadata": {},
     "output_type": "execute_result"
    }
   ],
   "source": [
    "# Group by 'type' and 'color' then take the mean\n",
    "\n",
    "data.groupby(by=['type', 'color']).mean()"
   ]
  },
  {
   "cell_type": "markdown",
   "metadata": {},
   "source": [
    "Okay, now that we've looked at a few different groupings and printed out some numbers, it's time to look at even more types of plots!\n",
    "\n",
    "\n",
    "\n",
    "\n",
    "#### Boxplot\n",
    "\n",
    "We'll start with something called a boxplot. This is a way to look at the distribution of a certain parameter. A distribution is a fancy way to describe how the data is spread out. Here's an example of a boxplot to show you what is plotted:\n",
    "\n",
    "(boxplot example with mean, quartiles, outliers labeled - will add when ready)"
   ]
  },
  {
   "cell_type": "code",
   "execution_count": 42,
   "metadata": {},
   "outputs": [
    {
     "data": {
      "text/plain": [
       "<matplotlib.axes._subplots.AxesSubplot at 0x1a22f5aad0>"
      ]
     },
     "execution_count": 42,
     "metadata": {},
     "output_type": "execute_result"
    },
    {
     "data": {
      "image/png": "[encoded data removed]",
      "text/plain": [
       "<Figure size 720x432 with 1 Axes>"
      ]
     },
     "metadata": {},
     "output_type": "display_data"
    }
   ],
   "source": [
    "# Create a 'boxplot' of the diameter\n",
    "\n",
    "sns.boxplot(x=\"type\", y=\"diameter\", data=data)"
   ]
  },
  {
   "cell_type": "code",
   "execution_count": 43,
   "metadata": {},
   "outputs": [
    {
     "data": {
      "text/plain": [
       "<matplotlib.axes._subplots.AxesSubplot at 0x1a22ee7890>"
      ]
     },
     "execution_count": 43,
     "metadata": {},
     "output_type": "execute_result"
    },
    {
     "data": {
      "image/png": "[encoded data removed]",
      "text/plain": [
       "<Figure size 720x432 with 1 Axes>"
      ]
     },
     "metadata": {},
     "output_type": "display_data"
    }
   ],
   "source": [
    "# Create a 'boxplot' of the mass\n",
    "\n",
    "sns.boxplot(x=\"type\", y=\"mass\", data=data)"
   ]
  },
  {
   "cell_type": "markdown",
   "metadata": {},
   "source": [
    "### Scatter plot\n",
    "\n",
    "This is a type of plot that you're probably already familiar with. We have two axes: the x (bottom) and y (left side) axes. We use scatter plots to see if there is any *correlation* or trends between different features in our data.\n",
    "\n",
    "Here is an example scatter plot, with the important parts labeled:\n",
    "\n",
    "*(scatter plot example with x axis, y axis, data with linear trend - will add when ready)*"
   ]
  },
  {
   "cell_type": "code",
   "execution_count": 44,
   "metadata": {},
   "outputs": [
    {
     "data": {
      "text/plain": [
       "<matplotlib.axes._subplots.AxesSubplot at 0x1a22f67c50>"
      ]
     },
     "execution_count": 44,
     "metadata": {},
     "output_type": "execute_result"
    },
    {
     "data": {
      "image/png": "[encoded data removed]",
      "text/plain": [
       "<Figure size 720x432 with 1 Axes>"
      ]
     },
     "metadata": {},
     "output_type": "display_data"
    }
   ],
   "source": [
    "# Make a scatter plot of the mass and diameter data\n",
    "\n",
    "sns.scatterplot(x=\"diameter\", y=\"mass\", hue=\"type\", data=data)"
   ]
  },
  {
   "cell_type": "markdown",
   "metadata": {},
   "source": [
    "### What do we see in the scatter plot?\n",
    "\n",
    "We now have an interesting plot to explore. Remember, the plot is grouped by type of M&M and now we can clearly see that there are three distinct types when we look at just the diameter and mass. Are there any trends in the data set? \n",
    "\n",
    "Trends:\n",
    "\n",
    "* 1)\n",
    "\n",
    "* 2)\n",
    "\n",
    "* 3)\n"
   ]
  },
  {
   "cell_type": "markdown",
   "metadata": {},
   "source": [
    "## Additional exercises to complete\n",
    "\n",
    "(will add these by Monday, possibly include another data set to practice with)\n",
    "\n",
    "[Seaborn Tutorial]('https://elitedatascience.com/python-seaborn-tutorial') using the Pokemon data set."
   ]
  }
 ],
 "metadata": {
  "kernelspec": {
   "display_name": "Python 3",
   "language": "python",
   "name": "python3"
  },
  "language_info": {
   "codemirror_mode": {
    "name": "ipython",
    "version": 3
   },
   "file_extension": ".py",
   "mimetype": "text/x-python",
   "name": "python",
   "nbconvert_exporter": "python",
   "pygments_lexer": "ipython3",
   "version": "3.7.4"
  }
 },
 "nbformat": 4,
 "nbformat_minor": 2
}
