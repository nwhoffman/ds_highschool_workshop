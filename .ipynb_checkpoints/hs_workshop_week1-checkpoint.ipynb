{
 "cells": [
  {
   "cell_type": "markdown",
   "metadata": {},
   "source": [
    "# Data Science - High-School workshop\n",
    "\n",
    "5 May, 2020"
   ]
  },
  {
   "cell_type": "markdown",
   "metadata": {},
   "source": [
    "## Introduction\n",
    "\n",
    "Hi! Welcome to the first Lambda School workshop for high-school students.\n",
    "\n",
    "During this workshop, we'll be working through the following code together to learn more about data science. The rough schedule for this frist workshop will be as follows:\n",
    "\n",
    "1. Introductions and warm-up\n",
    "2. Find the GitHub repo with this notebook, data sets, and other information\n",
    "3. Find the link for the Google Colab notebook \n",
    "4. Make a copy of your own notebook and start coding!\n",
    "5. \"Lecture\"\n",
    "6. Questions, wrap-up, and prepare for next week "
   ]
  },
  {
   "cell_type": "markdown",
   "metadata": {},
   "source": [
    "## Data, data, data\n",
    "\n",
    "So, since this workshop is called \"data science\" we're going to work with data. You're all probably very familiar with where a lot of data comes from:\n",
    "\n",
    "* data collected when you surf the internet, watch Netflix, or shop online\n",
    "* data collected by schools and health departments\n",
    "* data collected for a census or an election\n",
    "* data collected for science experiements and medical research, \n",
    "\n",
    "It would be hard to find a situation where data is *not* collected in some way. Even things in your home collect data about you! (\"Alexa, when did I last listen to Baby Shark?\")\n",
    "\n",
    "### Why?\n",
    "\n",
    "We collect data so we can later analyze it and learn something. What we learn depends on both the data and what sorts of questions we ask. When we have some results, we can use that to collect even more, and hopefully better, data. The more data we have, the better our questions and results.\n",
    "\n",
    "### \"Play\" data set\n",
    "\n",
    "One thing that is important to note is that data is messy. There are always wrong numbers, missing numbers, bad formatting, incorrect labels/names, and many other \"messy\" problems. But, we need to start somewhere so we'll use an already \"clean\" data set for practice. A clean data set has removed or fixed missing values, corrected formatting errors, and made sure labels are correct. In other words, it's a data set that's ready to analyze.\n",
    "\n",
    "### M&Ms\n",
    "\n",
    "<img src=\"PlainMMs_small.jpg\" alt=\"M&Ms\" align=\"right\" style=\"width: 200px;\"/>\n",
    "\n",
    "Students in a [university class](http://stat.pugetsound.edu/hoard/datasetDetails.aspx?id=1) recorded some data on the M&Ms candy. They recorded type (plain, peanut, and peanut butter), color, diameter, and mass. In total they counted over 800 M&Ms so that we could have a fun data set to practice with. (I'm sure they probably ate a few of those M&Ms, too)\n",
    "\n",
    "\n",
    "So, let's get started! First, we'll go over a mini-tutorial for how to use this \"notebook\" (the thing you're reading right now) and introduce some of the basics of the Python programming language.\n"
   ]
  },
  {
   "cell_type": "markdown",
   "metadata": {},
   "source": [
    "## The Notebook (not the movie)\n",
    "\n",
    "This file that you opened (with the .ipynb extension) is called a Jupyter Notebook. This particular one is running a IPython kernel which is the program that runs Python in the notebook. Notebooks are intended to be used with a mix of text cells (like stuff you might write in an actual paper notebook) and code cells.\n",
    "\n",
    "We're running our notebooks right now on Google Colab, which hosts and run your notebook/code on their servers.\n",
    "\n",
    "Fun fact: Jupyter notebooks are named for three main programming languages: [Julia](https://juliacomputing.com/), [Python](https://www.python.org/), and [R](https://www.r-project.org/) (JuPyteR - that 'e' sneaks in there). It was originally called an \"IPython notebook\" which is where that `.ipynb` extension comes from. The astronomer Galileo recorded the motion of the four largest moons of the planet Jupiter in his (paper) notebook, so the name Jupyter *might be* a reference to that, too.\n",
    "\n",
    "<img src=\"250px-Jupyter_logo.png\" alt=\"Jupyter-logo\" align=\"left\" style=\"width: 100px;\"/>\n",
    "\n",
    "<img src=\"jupiter_wikipedia.jpg\" alt=\"Jupiter\" align=\"right\" style=\"width: 100px;\"/>"
   ]
  },
  {
   "cell_type": "markdown",
   "metadata": {},
   "source": [
    "### Text or markdown cell\n",
    "This \"block\" that we're reading right now is called a cell. This is a **text cell** and is written in something called \"markdown\". That's what all of the `###` you might see are for - they are headers and specify the size of the text. \n",
    "\n",
    "### Code (Python) cell (below)\n",
    "\n",
    "<img src=\"python_logo.png\" alt=\"Python logo\" align=\"right\" style=\"width: 200px;\"/>\n",
    "\n",
    "The cell below is a code cell. Since we're using Python, the code in the cell is Python code.\n",
    "\n",
    "**Very complicated instructions:** \n",
    "\n",
    "* To run a cell, click on the `play` button on the left -or-\n",
    "* press and hold `Shift`, and then press `Enter`"
   ]
  },
  {
   "cell_type": "code",
   "execution_count": 1,
   "metadata": {},
   "outputs": [
    {
     "name": "stdout",
     "output_type": "stream",
     "text": [
      "Hello world!\n"
     ]
    }
   ],
   "source": [
    "# This is a code cell.\n",
    "# The hashtag # is used to indicate a comment and is ignored by Python\n",
    "# But this next line is code and is run by the program\n",
    "\n",
    "print('Hello world!')"
   ]
  },
  {
   "cell_type": "markdown",
   "metadata": {},
   "source": [
    "We ran the `print` command above to print everthing between the quote marks. In the cell below, go ahead and type in the print command to display the name of your favorite food in between the quotes. You can use `'single quotes'` or `\"double quotes\"`."
   ]
  },
  {
   "cell_type": "code",
   "execution_count": 2,
   "metadata": {},
   "outputs": [],
   "source": [
    "### YOUR turn! ###\n",
    "# Try out the print command in this cell\n",
    "\n"
   ]
  },
  {
   "cell_type": "markdown",
   "metadata": {},
   "source": [
    "Python also knows how to do math! I sometimes think of it as a big calculator (a calculator the size of my computer)."
   ]
  },
  {
   "cell_type": "code",
   "execution_count": 3,
   "metadata": {},
   "outputs": [
    {
     "data": {
      "text/plain": [
       "11"
      ]
     },
     "execution_count": 3,
     "metadata": {},
     "output_type": "execute_result"
    }
   ],
   "source": [
    "# Python loves to do math for you!\n",
    "\n",
    "4 + 7"
   ]
  },
  {
   "cell_type": "code",
   "execution_count": 4,
   "metadata": {},
   "outputs": [],
   "source": [
    "### YOUR turn! ###\n",
    "# Try out some math expressions in this cell\n",
    "\n",
    "\n"
   ]
  },
  {
   "cell_type": "code",
   "execution_count": 5,
   "metadata": {},
   "outputs": [
    {
     "name": "stdout",
     "output_type": "stream",
     "text": [
      "5\n"
     ]
    }
   ],
   "source": [
    "# Set a variable, print (output) to the screen\n",
    "\n",
    "myvariable = 10 - 5\n",
    "\n",
    "# Print the value of the variable\n",
    "# (we use the print function to see the output)\n",
    "\n",
    "print(myvariable)"
   ]
  },
  {
   "cell_type": "code",
   "execution_count": 6,
   "metadata": {},
   "outputs": [],
   "source": [
    "### YOUR turn! ###\n",
    "# More Python practice here\n",
    "\n",
    "\n",
    "\n",
    "\n"
   ]
  },
  {
   "cell_type": "markdown",
   "metadata": {},
   "source": [
    "## Data Exploration\n",
    "\n",
    "<img src=\"pandas_like.jpg\" alt=\"pandas\" align=\"right\" style=\"width: 225px;\"/>\n",
    "\n",
    "Now it's time to explore our data! Even though these notebooks are wonderful, they don't magically import or load up the data for us. We have to do that but there are some helpful libraries. In Python (and other coding languages), a library is a collection of modules which you import to use in your code. The modules contain functions that do a whole bunch of different things. For this workshop, we will be working with the pandas library.\n",
    "\n",
    "This library is used mainly for working with data and today, we'll mainly be using it to load our data and work with it in a table format called a *DataFrame*. A DataFrame in some ways looks very similar to a spreadsheet, which we'll see in a minute.\n",
    "\n",
    "But first, we have to import the pandas libary (in addition to a plotting library). \n",
    "\n",
    "Important note: when you see a code cell that starts with `# DO NOT EDIT`, it means the code in that cell is necessary and changing it might break your program."
   ]
  },
  {
   "cell_type": "code",
   "execution_count": 7,
   "metadata": {},
   "outputs": [],
   "source": [
    "# DO NOT EDIT\n",
    "# Import libraries\n",
    "\n",
    "# The pandas library is used for data analysis\n",
    "import pandas as pd\n",
    "\n",
    "# Plotting\n",
    "import seaborn as sns\n"
   ]
  },
  {
   "cell_type": "markdown",
   "metadata": {},
   "source": [
    "### CSV Files\n",
    "\n",
    "A csv file stands for \"comma separated value\" and it is a very common format. Many websites provide data in this format and you can also easily export (or save) in this format from a spreadsheet.\n",
    "\n",
    "Here's what our data looks like (each column is separated by a comma, each row begins with a new line):\n",
    "\n",
    "type,color,diameter,mass  \n",
    "peanut butter,blue,16.20,2.18  \n",
    "peanut butter,brown,16.50,2.01  \n",
    "peanut butter,orange,15.48,1.78  \n",
    "peanut butter,brown,16.32,1.98  \n",
    "peanut butter,yellow,15.59,1.62  \n",
    "peanut butter,brown,17.43,2.59  \n",
    "peanut butter,yellow,15.45,1.90"
   ]
  },
  {
   "cell_type": "code",
   "execution_count": 8,
   "metadata": {},
   "outputs": [],
   "source": [
    "# DO NOT EDIT\n",
    "# Import or \"load\" our data into the notebook\n",
    "\n",
    "# Set the variable called 'url' to the website where the data is located\n",
    "url = 'https://raw.githubusercontent.com/nwhoffman/ds_highschool_workshop/master/mms.csv'\n",
    "\n",
    "# \"data\" is the variable name that we assign to the file \"mms.csv\"\n",
    "data = pd.read_csv(url)"
   ]
  },
  {
   "cell_type": "markdown",
   "metadata": {},
   "source": [
    "### Explore the data\n",
    "\n",
    "Now that we've loaded the data, we should explore it! As a data scientist, this is up to you. Think about what you want to learn from your data and how it might help answer any questions you have.\n",
    "\n",
    "**What do we want to look at?**\n",
    "\n",
    "* what are the columns?\n",
    "* how many rows?\n",
    "* data types: words, numbers, dates, true/false (Boolean)\n",
    "* number of different items in each column\n",
    "* whatever seems interesting!\n"
   ]
  },
  {
   "cell_type": "code",
   "execution_count": 9,
   "metadata": {},
   "outputs": [
    {
     "data": {
      "text/html": [
       "<div>\n",
       "<style scoped>\n",
       "    .dataframe tbody tr th:only-of-type {\n",
       "        vertical-align: middle;\n",
       "    }\n",
       "\n",
       "    .dataframe tbody tr th {\n",
       "        vertical-align: top;\n",
       "    }\n",
       "\n",
       "    .dataframe thead th {\n",
       "        text-align: right;\n",
       "    }\n",
       "</style>\n",
       "<table border=\"1\" class=\"dataframe\">\n",
       "  <thead>\n",
       "    <tr style=\"text-align: right;\">\n",
       "      <th></th>\n",
       "      <th>type</th>\n",
       "      <th>color</th>\n",
       "      <th>diameter</th>\n",
       "      <th>mass</th>\n",
       "    </tr>\n",
       "  </thead>\n",
       "  <tbody>\n",
       "    <tr>\n",
       "      <th>0</th>\n",
       "      <td>peanut butter</td>\n",
       "      <td>blue</td>\n",
       "      <td>16.20</td>\n",
       "      <td>2.18</td>\n",
       "    </tr>\n",
       "    <tr>\n",
       "      <th>1</th>\n",
       "      <td>peanut butter</td>\n",
       "      <td>brown</td>\n",
       "      <td>16.50</td>\n",
       "      <td>2.01</td>\n",
       "    </tr>\n",
       "    <tr>\n",
       "      <th>2</th>\n",
       "      <td>peanut butter</td>\n",
       "      <td>orange</td>\n",
       "      <td>15.48</td>\n",
       "      <td>1.78</td>\n",
       "    </tr>\n",
       "    <tr>\n",
       "      <th>3</th>\n",
       "      <td>peanut butter</td>\n",
       "      <td>brown</td>\n",
       "      <td>16.32</td>\n",
       "      <td>1.98</td>\n",
       "    </tr>\n",
       "    <tr>\n",
       "      <th>4</th>\n",
       "      <td>peanut butter</td>\n",
       "      <td>yellow</td>\n",
       "      <td>15.59</td>\n",
       "      <td>1.62</td>\n",
       "    </tr>\n",
       "    <tr>\n",
       "      <th>5</th>\n",
       "      <td>peanut butter</td>\n",
       "      <td>brown</td>\n",
       "      <td>17.43</td>\n",
       "      <td>2.59</td>\n",
       "    </tr>\n",
       "    <tr>\n",
       "      <th>6</th>\n",
       "      <td>peanut butter</td>\n",
       "      <td>yellow</td>\n",
       "      <td>15.45</td>\n",
       "      <td>1.90</td>\n",
       "    </tr>\n",
       "    <tr>\n",
       "      <th>7</th>\n",
       "      <td>peanut butter</td>\n",
       "      <td>green</td>\n",
       "      <td>17.30</td>\n",
       "      <td>2.55</td>\n",
       "    </tr>\n",
       "    <tr>\n",
       "      <th>8</th>\n",
       "      <td>peanut butter</td>\n",
       "      <td>yellow</td>\n",
       "      <td>16.37</td>\n",
       "      <td>2.07</td>\n",
       "    </tr>\n",
       "    <tr>\n",
       "      <th>9</th>\n",
       "      <td>peanut butter</td>\n",
       "      <td>blue</td>\n",
       "      <td>16.67</td>\n",
       "      <td>2.26</td>\n",
       "    </tr>\n",
       "  </tbody>\n",
       "</table>\n",
       "</div>"
      ],
      "text/plain": [
       "            type   color  diameter  mass\n",
       "0  peanut butter    blue     16.20  2.18\n",
       "1  peanut butter   brown     16.50  2.01\n",
       "2  peanut butter  orange     15.48  1.78\n",
       "3  peanut butter   brown     16.32  1.98\n",
       "4  peanut butter  yellow     15.59  1.62\n",
       "5  peanut butter   brown     17.43  2.59\n",
       "6  peanut butter  yellow     15.45  1.90\n",
       "7  peanut butter   green     17.30  2.55\n",
       "8  peanut butter  yellow     16.37  2.07\n",
       "9  peanut butter    blue     16.67  2.26"
      ]
     },
     "execution_count": 9,
     "metadata": {},
     "output_type": "execute_result"
    }
   ],
   "source": [
    "# View the data using the head() method (top of the file)\n",
    "\n",
    "data.head(10)\n"
   ]
  },
  {
   "cell_type": "code",
   "execution_count": 10,
   "metadata": {},
   "outputs": [
    {
     "data": {
      "text/html": [
       "<div>\n",
       "<style scoped>\n",
       "    .dataframe tbody tr th:only-of-type {\n",
       "        vertical-align: middle;\n",
       "    }\n",
       "\n",
       "    .dataframe tbody tr th {\n",
       "        vertical-align: top;\n",
       "    }\n",
       "\n",
       "    .dataframe thead th {\n",
       "        text-align: right;\n",
       "    }\n",
       "</style>\n",
       "<table border=\"1\" class=\"dataframe\">\n",
       "  <thead>\n",
       "    <tr style=\"text-align: right;\">\n",
       "      <th></th>\n",
       "      <th>type</th>\n",
       "      <th>color</th>\n",
       "      <th>diameter</th>\n",
       "      <th>mass</th>\n",
       "    </tr>\n",
       "  </thead>\n",
       "  <tbody>\n",
       "    <tr>\n",
       "      <th>806</th>\n",
       "      <td>peanut</td>\n",
       "      <td>brown</td>\n",
       "      <td>15.81</td>\n",
       "      <td>2.83</td>\n",
       "    </tr>\n",
       "    <tr>\n",
       "      <th>807</th>\n",
       "      <td>peanut</td>\n",
       "      <td>green</td>\n",
       "      <td>16.05</td>\n",
       "      <td>3.08</td>\n",
       "    </tr>\n",
       "    <tr>\n",
       "      <th>808</th>\n",
       "      <td>peanut</td>\n",
       "      <td>orange</td>\n",
       "      <td>15.05</td>\n",
       "      <td>2.81</td>\n",
       "    </tr>\n",
       "    <tr>\n",
       "      <th>809</th>\n",
       "      <td>peanut</td>\n",
       "      <td>blue</td>\n",
       "      <td>14.35</td>\n",
       "      <td>2.01</td>\n",
       "    </tr>\n",
       "    <tr>\n",
       "      <th>810</th>\n",
       "      <td>peanut</td>\n",
       "      <td>yellow</td>\n",
       "      <td>14.31</td>\n",
       "      <td>2.76</td>\n",
       "    </tr>\n",
       "    <tr>\n",
       "      <th>811</th>\n",
       "      <td>peanut</td>\n",
       "      <td>red</td>\n",
       "      <td>15.89</td>\n",
       "      <td>2.63</td>\n",
       "    </tr>\n",
       "    <tr>\n",
       "      <th>812</th>\n",
       "      <td>peanut</td>\n",
       "      <td>green</td>\n",
       "      <td>15.48</td>\n",
       "      <td>2.81</td>\n",
       "    </tr>\n",
       "    <tr>\n",
       "      <th>813</th>\n",
       "      <td>peanut</td>\n",
       "      <td>green</td>\n",
       "      <td>14.08</td>\n",
       "      <td>2.59</td>\n",
       "    </tr>\n",
       "    <tr>\n",
       "      <th>814</th>\n",
       "      <td>peanut</td>\n",
       "      <td>red</td>\n",
       "      <td>15.22</td>\n",
       "      <td>2.69</td>\n",
       "    </tr>\n",
       "    <tr>\n",
       "      <th>815</th>\n",
       "      <td>peanut</td>\n",
       "      <td>yellow</td>\n",
       "      <td>16.33</td>\n",
       "      <td>3.04</td>\n",
       "    </tr>\n",
       "  </tbody>\n",
       "</table>\n",
       "</div>"
      ],
      "text/plain": [
       "       type   color  diameter  mass\n",
       "806  peanut   brown     15.81  2.83\n",
       "807  peanut   green     16.05  3.08\n",
       "808  peanut  orange     15.05  2.81\n",
       "809  peanut    blue     14.35  2.01\n",
       "810  peanut  yellow     14.31  2.76\n",
       "811  peanut     red     15.89  2.63\n",
       "812  peanut   green     15.48  2.81\n",
       "813  peanut   green     14.08  2.59\n",
       "814  peanut     red     15.22  2.69\n",
       "815  peanut  yellow     16.33  3.04"
      ]
     },
     "execution_count": 10,
     "metadata": {},
     "output_type": "execute_result"
    }
   ],
   "source": [
    "# View the \"end\" of the data\n",
    "\n",
    "data.tail(10)"
   ]
  },
  {
   "cell_type": "code",
   "execution_count": 11,
   "metadata": {},
   "outputs": [
    {
     "name": "stdout",
     "output_type": "stream",
     "text": [
      "<class 'pandas.core.frame.DataFrame'>\n",
      "RangeIndex: 816 entries, 0 to 815\n",
      "Data columns (total 4 columns):\n",
      "type        816 non-null object\n",
      "color       816 non-null object\n",
      "diameter    816 non-null float64\n",
      "mass        816 non-null float64\n",
      "dtypes: float64(2), object(2)\n",
      "memory usage: 25.6+ KB\n"
     ]
    }
   ],
   "source": [
    "# Display the general info. about the data:\n",
    "# number of entries, number of columns, data type\n",
    "\n",
    "data.info()"
   ]
  },
  {
   "cell_type": "markdown",
   "metadata": {},
   "source": [
    "### Select a column\n",
    "\n",
    "The above few lines have been looking at the whole DataFrame - all of the columns. We can also look at just one column by using the `[ ]` notation to select a column. We'll look at the `type` column first."
   ]
  },
  {
   "cell_type": "code",
   "execution_count": 12,
   "metadata": {},
   "outputs": [],
   "source": [
    "# Select and print out a single column\n",
    "# uncomment the next line and run the cell\n",
    "\n",
    "#data['type']"
   ]
  },
  {
   "cell_type": "code",
   "execution_count": 13,
   "metadata": {},
   "outputs": [
    {
     "data": {
      "text/plain": [
       "plain            462\n",
       "peanut butter    201\n",
       "peanut           153\n",
       "Name: type, dtype: int64"
      ]
     },
     "execution_count": 13,
     "metadata": {},
     "output_type": "execute_result"
    }
   ],
   "source": [
    "# Look at one column, count how many of each \"type\"\n",
    "# (how many M&Ms of each kind)\n",
    "\n",
    "data['type'].value_counts()"
   ]
  },
  {
   "cell_type": "code",
   "execution_count": 14,
   "metadata": {},
   "outputs": [
    {
     "data": {
      "text/plain": [
       "green     153\n",
       "brown     151\n",
       "yellow    143\n",
       "blue      142\n",
       "orange    128\n",
       "red        99\n",
       "Name: color, dtype: int64"
      ]
     },
     "execution_count": 14,
     "metadata": {},
     "output_type": "execute_result"
    }
   ],
   "source": [
    "# Look at another column, count how many of each \"color\"\n",
    "# (how many colors are listed)\n",
    "\n",
    "data['color'].value_counts()"
   ]
  },
  {
   "cell_type": "markdown",
   "metadata": {},
   "source": [
    "### Summarize\n",
    "\n",
    "<img src=\"hamster.jpg\" alt=\"hamster\" align=\"right\" style=\"width: 150px;\"/>\n",
    "\n",
    "So, we've learned some stuff about our data set. We now know:\n",
    "\n",
    "* there are 816 observations (or 816 M&Ms were measured)\n",
    "* we have 3 flavors: plain, peanut butter, peanut\n",
    "* we have five colors\n",
    "* some of us are craving M&Ms right now ----->\n",
    "\n",
    "What's next? Have we come up with any questions we want to ask about our M&Ms? Let's take a few minutes and discuss."
   ]
  },
  {
   "cell_type": "markdown",
   "metadata": {},
   "source": [
    "### Really important M&M questions:\n",
    "\n",
    "(use this space to write out some of your own questions)\n",
    "\n",
    "1)\n",
    "\n",
    "2)\n",
    "\n",
    "3)\n",
    "\n"
   ]
  },
  {
   "cell_type": "markdown",
   "metadata": {},
   "source": [
    "### Statistics\n",
    "\n",
    "<img src=\"suspicious.jpeg\" alt=\"cartoon\" align=\"right\" style=\"width: 250px;\"/>\n",
    "\n",
    "In our discussion and in the questions/thoughts you wrote down, there was probably some mention of things like \"average M&M size\" or \"biggest M&M\" (or even more scary: \"smallest M&M\"). We might even want to know how the size varies with color.\n",
    "\n",
    "So, it would probably be fun to look at some of the statistics for the different types of M&Ms. We can do this graphically with plots and/or print out some of the numbers. \n",
    "\n",
    "In order to look at the **\"groups\" of candy**, we need to use the pandas `'groupby()'` method. We'll start by grouping according to type. When we do this, we need to **do something to the groups**. In this example, let's find the average (mean) diameter and mass for each type.\n",
    "\n",
    "*Cartoon Credit: Andrew Gelman*"
   ]
  },
  {
   "cell_type": "code",
   "execution_count": 15,
   "metadata": {},
   "outputs": [
    {
     "data": {
      "text/html": [
       "<div>\n",
       "<style scoped>\n",
       "    .dataframe tbody tr th:only-of-type {\n",
       "        vertical-align: middle;\n",
       "    }\n",
       "\n",
       "    .dataframe tbody tr th {\n",
       "        vertical-align: top;\n",
       "    }\n",
       "\n",
       "    .dataframe thead th {\n",
       "        text-align: right;\n",
       "    }\n",
       "</style>\n",
       "<table border=\"1\" class=\"dataframe\">\n",
       "  <thead>\n",
       "    <tr style=\"text-align: right;\">\n",
       "      <th></th>\n",
       "      <th>diameter</th>\n",
       "      <th>mass</th>\n",
       "    </tr>\n",
       "    <tr>\n",
       "      <th>type</th>\n",
       "      <th></th>\n",
       "      <th></th>\n",
       "    </tr>\n",
       "  </thead>\n",
       "  <tbody>\n",
       "    <tr>\n",
       "      <th>peanut</th>\n",
       "      <td>14.772353</td>\n",
       "      <td>2.597712</td>\n",
       "    </tr>\n",
       "    <tr>\n",
       "      <th>peanut butter</th>\n",
       "      <td>15.766766</td>\n",
       "      <td>1.798109</td>\n",
       "    </tr>\n",
       "    <tr>\n",
       "      <th>plain</th>\n",
       "      <td>13.279199</td>\n",
       "      <td>0.864827</td>\n",
       "    </tr>\n",
       "  </tbody>\n",
       "</table>\n",
       "</div>"
      ],
      "text/plain": [
       "                diameter      mass\n",
       "type                              \n",
       "peanut         14.772353  2.597712\n",
       "peanut butter  15.766766  1.798109\n",
       "plain          13.279199  0.864827"
      ]
     },
     "execution_count": 15,
     "metadata": {},
     "output_type": "execute_result"
    }
   ],
   "source": [
    "# Group by M&M type and find the mean\n",
    "\n",
    "data.groupby(by='type').mean()"
   ]
  },
  {
   "cell_type": "code",
   "execution_count": 16,
   "metadata": {},
   "outputs": [
    {
     "data": {
      "text/html": [
       "<div>\n",
       "<style scoped>\n",
       "    .dataframe tbody tr th:only-of-type {\n",
       "        vertical-align: middle;\n",
       "    }\n",
       "\n",
       "    .dataframe tbody tr th {\n",
       "        vertical-align: top;\n",
       "    }\n",
       "\n",
       "    .dataframe thead th {\n",
       "        text-align: right;\n",
       "    }\n",
       "</style>\n",
       "<table border=\"1\" class=\"dataframe\">\n",
       "  <thead>\n",
       "    <tr style=\"text-align: right;\">\n",
       "      <th></th>\n",
       "      <th>diameter</th>\n",
       "      <th>mass</th>\n",
       "    </tr>\n",
       "    <tr>\n",
       "      <th>color</th>\n",
       "      <th></th>\n",
       "      <th></th>\n",
       "    </tr>\n",
       "  </thead>\n",
       "  <tbody>\n",
       "    <tr>\n",
       "      <th>blue</th>\n",
       "      <td>14.037394</td>\n",
       "      <td>1.382113</td>\n",
       "    </tr>\n",
       "    <tr>\n",
       "      <th>brown</th>\n",
       "      <td>14.178609</td>\n",
       "      <td>1.389007</td>\n",
       "    </tr>\n",
       "    <tr>\n",
       "      <th>green</th>\n",
       "      <td>14.191961</td>\n",
       "      <td>1.422876</td>\n",
       "    </tr>\n",
       "    <tr>\n",
       "      <th>orange</th>\n",
       "      <td>14.024141</td>\n",
       "      <td>1.413438</td>\n",
       "    </tr>\n",
       "    <tr>\n",
       "      <th>red</th>\n",
       "      <td>14.156061</td>\n",
       "      <td>1.400404</td>\n",
       "    </tr>\n",
       "    <tr>\n",
       "      <th>yellow</th>\n",
       "      <td>14.420210</td>\n",
       "      <td>1.504615</td>\n",
       "    </tr>\n",
       "  </tbody>\n",
       "</table>\n",
       "</div>"
      ],
      "text/plain": [
       "         diameter      mass\n",
       "color                      \n",
       "blue    14.037394  1.382113\n",
       "brown   14.178609  1.389007\n",
       "green   14.191961  1.422876\n",
       "orange  14.024141  1.413438\n",
       "red     14.156061  1.400404\n",
       "yellow  14.420210  1.504615"
      ]
     },
     "execution_count": 16,
     "metadata": {},
     "output_type": "execute_result"
    }
   ],
   "source": [
    "# YOU try!\n",
    "\n",
    "# Group by color and find the mean\n",
    "\n",
    "data.groupby(by='color').mean()"
   ]
  },
  {
   "cell_type": "code",
   "execution_count": 17,
   "metadata": {},
   "outputs": [
    {
     "data": {
      "text/html": [
       "<div>\n",
       "<style scoped>\n",
       "    .dataframe tbody tr th:only-of-type {\n",
       "        vertical-align: middle;\n",
       "    }\n",
       "\n",
       "    .dataframe tbody tr th {\n",
       "        vertical-align: top;\n",
       "    }\n",
       "\n",
       "    .dataframe thead th {\n",
       "        text-align: right;\n",
       "    }\n",
       "</style>\n",
       "<table border=\"1\" class=\"dataframe\">\n",
       "  <thead>\n",
       "    <tr style=\"text-align: right;\">\n",
       "      <th></th>\n",
       "      <th></th>\n",
       "      <th>diameter</th>\n",
       "      <th>mass</th>\n",
       "    </tr>\n",
       "    <tr>\n",
       "      <th>type</th>\n",
       "      <th>color</th>\n",
       "      <th></th>\n",
       "      <th></th>\n",
       "    </tr>\n",
       "  </thead>\n",
       "  <tbody>\n",
       "    <tr>\n",
       "      <th rowspan=\"6\" valign=\"top\">peanut</th>\n",
       "      <th>blue</th>\n",
       "      <td>14.777037</td>\n",
       "      <td>2.575926</td>\n",
       "    </tr>\n",
       "    <tr>\n",
       "      <th>brown</th>\n",
       "      <td>14.743913</td>\n",
       "      <td>2.571304</td>\n",
       "    </tr>\n",
       "    <tr>\n",
       "      <th>green</th>\n",
       "      <td>15.048889</td>\n",
       "      <td>2.680741</td>\n",
       "    </tr>\n",
       "    <tr>\n",
       "      <th>orange</th>\n",
       "      <td>14.591724</td>\n",
       "      <td>2.570345</td>\n",
       "    </tr>\n",
       "    <tr>\n",
       "      <th>red</th>\n",
       "      <td>15.015000</td>\n",
       "      <td>2.626500</td>\n",
       "    </tr>\n",
       "    <tr>\n",
       "      <th>yellow</th>\n",
       "      <td>14.529630</td>\n",
       "      <td>2.567037</td>\n",
       "    </tr>\n",
       "    <tr>\n",
       "      <th rowspan=\"6\" valign=\"top\">peanut butter</th>\n",
       "      <th>blue</th>\n",
       "      <td>15.869286</td>\n",
       "      <td>1.852500</td>\n",
       "    </tr>\n",
       "    <tr>\n",
       "      <th>brown</th>\n",
       "      <td>15.675714</td>\n",
       "      <td>1.803095</td>\n",
       "    </tr>\n",
       "    <tr>\n",
       "      <th>green</th>\n",
       "      <td>16.038235</td>\n",
       "      <td>1.920294</td>\n",
       "    </tr>\n",
       "    <tr>\n",
       "      <th>orange</th>\n",
       "      <td>15.657083</td>\n",
       "      <td>1.730000</td>\n",
       "    </tr>\n",
       "    <tr>\n",
       "      <th>red</th>\n",
       "      <td>15.765714</td>\n",
       "      <td>1.740476</td>\n",
       "    </tr>\n",
       "    <tr>\n",
       "      <th>yellow</th>\n",
       "      <td>15.658654</td>\n",
       "      <td>1.739615</td>\n",
       "    </tr>\n",
       "    <tr>\n",
       "      <th rowspan=\"6\" valign=\"top\">plain</th>\n",
       "      <th>blue</th>\n",
       "      <td>13.218276</td>\n",
       "      <td>0.860230</td>\n",
       "    </tr>\n",
       "    <tr>\n",
       "      <th>brown</th>\n",
       "      <td>13.296279</td>\n",
       "      <td>0.870581</td>\n",
       "    </tr>\n",
       "    <tr>\n",
       "      <th>green</th>\n",
       "      <td>13.258152</td>\n",
       "      <td>0.869891</td>\n",
       "    </tr>\n",
       "    <tr>\n",
       "      <th>orange</th>\n",
       "      <td>13.282133</td>\n",
       "      <td>0.864800</td>\n",
       "    </tr>\n",
       "    <tr>\n",
       "      <th>red</th>\n",
       "      <td>13.277069</td>\n",
       "      <td>0.854483</td>\n",
       "    </tr>\n",
       "    <tr>\n",
       "      <th>yellow</th>\n",
       "      <td>13.367812</td>\n",
       "      <td>0.865469</td>\n",
       "    </tr>\n",
       "  </tbody>\n",
       "</table>\n",
       "</div>"
      ],
      "text/plain": [
       "                       diameter      mass\n",
       "type          color                      \n",
       "peanut        blue    14.777037  2.575926\n",
       "              brown   14.743913  2.571304\n",
       "              green   15.048889  2.680741\n",
       "              orange  14.591724  2.570345\n",
       "              red     15.015000  2.626500\n",
       "              yellow  14.529630  2.567037\n",
       "peanut butter blue    15.869286  1.852500\n",
       "              brown   15.675714  1.803095\n",
       "              green   16.038235  1.920294\n",
       "              orange  15.657083  1.730000\n",
       "              red     15.765714  1.740476\n",
       "              yellow  15.658654  1.739615\n",
       "plain         blue    13.218276  0.860230\n",
       "              brown   13.296279  0.870581\n",
       "              green   13.258152  0.869891\n",
       "              orange  13.282133  0.864800\n",
       "              red     13.277069  0.854483\n",
       "              yellow  13.367812  0.865469"
      ]
     },
     "execution_count": 17,
     "metadata": {},
     "output_type": "execute_result"
    }
   ],
   "source": [
    "# Group by 'type' and 'color' then take the mean\n",
    "\n",
    "data.groupby(by=['type', 'color']).mean()"
   ]
  },
  {
   "cell_type": "markdown",
   "metadata": {},
   "source": [
    "Okay, now that we've looked at a few different groupings and printed out some numbers, it's time to do something more useful: plots! \n",
    "\n",
    "Plotting with the `pandas` library is pretty easy. There is also another library called `seaborn` which is also pretty easy to work with. Right now, let's make a plot and see how it works. Remember, we've already imported our notebooks.\n",
    "\n",
    "#### Boxplot\n",
    "\n",
    "<img src=\"box_plot.png\" alt=\"Python logo\" align=\"right\" style=\"width: 300px;\"/>\n",
    "\n",
    "We'll start with something called a boxplot. This type of plot is a way to look at the distribution of a certain parameter. A distribution is a fancy way to describe how the data is spread out.\n",
    "\n",
    "On the right is an example of a boxplot where we can see the important parts: minimum, maxiumum, median (50%), and quartiles (25% & 75%).\n",
    "\n",
    "There is also an outlier plotted on the bottom. This is a data point that is far away from the rest of the data. There are many reasons there can be outlying data such as measurement error or recording error. But it could also be an actual data point that might need a closer look.\n",
    "\n",
    "Let's make some box plots for our M&M data and see what they look like for different types of M&Ms. We'll start by looking at the plot for the \"diameter\" of the M&Ms."
   ]
  },
  {
   "cell_type": "code",
   "execution_count": 18,
   "metadata": {},
   "outputs": [
    {
     "data": {
      "text/plain": [
       "<matplotlib.axes._subplots.AxesSubplot at 0x7f90111f5080>"
      ]
     },
     "execution_count": 18,
     "metadata": {},
     "output_type": "execute_result"
    },
    {
     "data": {
      "image/png": "[encoded data removed]",
      "text/plain": [
       "<Figure size 432x288 with 1 Axes>"
      ]
     },
     "metadata": {
      "needs_background": "light"
     },
     "output_type": "display_data"
    }
   ],
   "source": [
    "# Create a 'boxplot' of the diameter\n",
    "\n",
    "sns.boxplot(x=\"type\", y=\"diameter\", data=data)"
   ]
  },
  {
   "cell_type": "code",
   "execution_count": 19,
   "metadata": {},
   "outputs": [
    {
     "data": {
      "text/plain": [
       "<matplotlib.axes._subplots.AxesSubplot at 0x7f9010eb3ba8>"
      ]
     },
     "execution_count": 19,
     "metadata": {},
     "output_type": "execute_result"
    },
    {
     "data": {
      "image/png": "[encoded data removed]",
      "text/plain": [
       "<Figure size 432x288 with 1 Axes>"
      ]
     },
     "metadata": {
      "needs_background": "light"
     },
     "output_type": "display_data"
    }
   ],
   "source": [
    "# Create a 'boxplot' of the mass\n",
    "\n",
    "sns.boxplot(x=\"type\", y=\"mass\", data=data)"
   ]
  },
  {
   "cell_type": "markdown",
   "metadata": {},
   "source": [
    "### Scatter plot\n",
    "\n",
    "\n",
    "<img src=\"typical-scatter-plot.png\" alt=\"Python logo\" align=\"right\" style=\"width: 300px;\"/>\n",
    "\n",
    "This is a type of plot that you're probably already familiar with. We have two axes: the x (bottom) and y (left side) axes. We use scatter plots to see if there is any *correlation* or trends between different features in our data.\n",
    "\n",
    "An example scatter plot is shown on the right. The independent variable axis (also called the x-axis) is along the bottom, and the dependent variable axis is on the left (y-axis). On this plot, we see an example \"trendline\" which passes through most of the data. On this plot, there is only one feature plotted, as demonstrated by using a single color for the dots.\n",
    "\n",
    "Let's create some scatter plots for our M&M data. Remember that we have three types of M&Ms so we can use three different colors on the plot."
   ]
  },
  {
   "cell_type": "code",
   "execution_count": 20,
   "metadata": {},
   "outputs": [
    {
     "data": {
      "text/plain": [
       "<matplotlib.axes._subplots.AxesSubplot at 0x7f9010e365c0>"
      ]
     },
     "execution_count": 20,
     "metadata": {},
     "output_type": "execute_result"
    },
    {
     "data": {
      "image/png": "[encoded data removed]",
      "text/plain": [
       "<Figure size 432x288 with 1 Axes>"
      ]
     },
     "metadata": {
      "needs_background": "light"
     },
     "output_type": "display_data"
    }
   ],
   "source": [
    "# Make a scatter plot of the mass and diameter data\n",
    "\n",
    "sns.scatterplot(x=\"diameter\", y=\"mass\", hue=\"type\", data=data)"
   ]
  },
  {
   "cell_type": "markdown",
   "metadata": {},
   "source": [
    "## Additional exercises to complete\n",
    "\n",
    "(possibly add these at the end of lecture)"
   ]
  },
  {
   "cell_type": "code",
   "execution_count": null,
   "metadata": {},
   "outputs": [],
   "source": []
  }
 ],
 "metadata": {
  "kernelspec": {
   "display_name": "Python 3",
   "language": "python",
   "name": "python3"
  },
  "language_info": {
   "codemirror_mode": {
    "name": "ipython",
    "version": 3
   },
   "file_extension": ".py",
   "mimetype": "text/x-python",
   "name": "python",
   "nbconvert_exporter": "python",
   "pygments_lexer": "ipython3",
   "version": "3.7.3"
  }
 },
 "nbformat": 4,
 "nbformat_minor": 2
}
